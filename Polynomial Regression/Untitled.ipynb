{
 "cells": [
  {
   "cell_type": "code",
   "execution_count": 1,
   "id": "0069ab42",
   "metadata": {},
   "outputs": [],
   "source": [
    "import pandas as pd\n",
    "import numpy as np\n",
    "import matplotlib.pyplot as plt\n",
    "import seaborn as sns"
   ]
  },
  {
   "cell_type": "code",
   "execution_count": 2,
   "id": "cb79bf33",
   "metadata": {},
   "outputs": [],
   "source": [
    "data = pd.read_csv('Datas/boston.csv')"
   ]
  },
  {
   "cell_type": "markdown",
   "id": "ed95949b",
   "metadata": {},
   "source": [
    "### Exploring Data"
   ]
  },
  {
   "cell_type": "code",
   "execution_count": 3,
   "id": "fa6e156d",
   "metadata": {
    "scrolled": true
   },
   "outputs": [
    {
     "data": {
      "text/html": [
       "<div>\n",
       "<style scoped>\n",
       "    .dataframe tbody tr th:only-of-type {\n",
       "        vertical-align: middle;\n",
       "    }\n",
       "\n",
       "    .dataframe tbody tr th {\n",
       "        vertical-align: top;\n",
       "    }\n",
       "\n",
       "    .dataframe thead th {\n",
       "        text-align: right;\n",
       "    }\n",
       "</style>\n",
       "<table border=\"1\" class=\"dataframe\">\n",
       "  <thead>\n",
       "    <tr style=\"text-align: right;\">\n",
       "      <th></th>\n",
       "      <th>CRIM</th>\n",
       "      <th>ZN</th>\n",
       "      <th>INDUS</th>\n",
       "      <th>CHAS</th>\n",
       "      <th>NOX</th>\n",
       "      <th>RM</th>\n",
       "      <th>AGE</th>\n",
       "      <th>DIS</th>\n",
       "      <th>RAD</th>\n",
       "      <th>TAX</th>\n",
       "      <th>PTRATIO</th>\n",
       "      <th>B</th>\n",
       "      <th>LSTAT</th>\n",
       "      <th>MEDV</th>\n",
       "    </tr>\n",
       "  </thead>\n",
       "  <tbody>\n",
       "    <tr>\n",
       "      <th>0</th>\n",
       "      <td>0.00632</td>\n",
       "      <td>18.0</td>\n",
       "      <td>2.31</td>\n",
       "      <td>0.0</td>\n",
       "      <td>0.538</td>\n",
       "      <td>6.575</td>\n",
       "      <td>65.2</td>\n",
       "      <td>4.0900</td>\n",
       "      <td>1</td>\n",
       "      <td>296</td>\n",
       "      <td>15.3</td>\n",
       "      <td>396.90</td>\n",
       "      <td>4.98</td>\n",
       "      <td>24.0</td>\n",
       "    </tr>\n",
       "    <tr>\n",
       "      <th>1</th>\n",
       "      <td>0.02731</td>\n",
       "      <td>0.0</td>\n",
       "      <td>7.07</td>\n",
       "      <td>0.0</td>\n",
       "      <td>0.469</td>\n",
       "      <td>6.421</td>\n",
       "      <td>78.9</td>\n",
       "      <td>4.9671</td>\n",
       "      <td>2</td>\n",
       "      <td>242</td>\n",
       "      <td>17.8</td>\n",
       "      <td>396.90</td>\n",
       "      <td>9.14</td>\n",
       "      <td>21.6</td>\n",
       "    </tr>\n",
       "    <tr>\n",
       "      <th>2</th>\n",
       "      <td>0.02729</td>\n",
       "      <td>0.0</td>\n",
       "      <td>7.07</td>\n",
       "      <td>0.0</td>\n",
       "      <td>0.469</td>\n",
       "      <td>7.185</td>\n",
       "      <td>61.1</td>\n",
       "      <td>4.9671</td>\n",
       "      <td>2</td>\n",
       "      <td>242</td>\n",
       "      <td>17.8</td>\n",
       "      <td>392.83</td>\n",
       "      <td>4.03</td>\n",
       "      <td>34.7</td>\n",
       "    </tr>\n",
       "    <tr>\n",
       "      <th>3</th>\n",
       "      <td>0.03237</td>\n",
       "      <td>0.0</td>\n",
       "      <td>2.18</td>\n",
       "      <td>0.0</td>\n",
       "      <td>0.458</td>\n",
       "      <td>6.998</td>\n",
       "      <td>45.8</td>\n",
       "      <td>6.0622</td>\n",
       "      <td>3</td>\n",
       "      <td>222</td>\n",
       "      <td>18.7</td>\n",
       "      <td>394.63</td>\n",
       "      <td>2.94</td>\n",
       "      <td>33.4</td>\n",
       "    </tr>\n",
       "    <tr>\n",
       "      <th>4</th>\n",
       "      <td>0.06905</td>\n",
       "      <td>0.0</td>\n",
       "      <td>2.18</td>\n",
       "      <td>0.0</td>\n",
       "      <td>0.458</td>\n",
       "      <td>7.147</td>\n",
       "      <td>54.2</td>\n",
       "      <td>6.0622</td>\n",
       "      <td>3</td>\n",
       "      <td>222</td>\n",
       "      <td>18.7</td>\n",
       "      <td>396.90</td>\n",
       "      <td>NaN</td>\n",
       "      <td>36.2</td>\n",
       "    </tr>\n",
       "  </tbody>\n",
       "</table>\n",
       "</div>"
      ],
      "text/plain": [
       "      CRIM    ZN  INDUS  CHAS    NOX     RM   AGE     DIS  RAD  TAX  PTRATIO  \\\n",
       "0  0.00632  18.0   2.31   0.0  0.538  6.575  65.2  4.0900    1  296     15.3   \n",
       "1  0.02731   0.0   7.07   0.0  0.469  6.421  78.9  4.9671    2  242     17.8   \n",
       "2  0.02729   0.0   7.07   0.0  0.469  7.185  61.1  4.9671    2  242     17.8   \n",
       "3  0.03237   0.0   2.18   0.0  0.458  6.998  45.8  6.0622    3  222     18.7   \n",
       "4  0.06905   0.0   2.18   0.0  0.458  7.147  54.2  6.0622    3  222     18.7   \n",
       "\n",
       "        B  LSTAT  MEDV  \n",
       "0  396.90   4.98  24.0  \n",
       "1  396.90   9.14  21.6  \n",
       "2  392.83   4.03  34.7  \n",
       "3  394.63   2.94  33.4  \n",
       "4  396.90    NaN  36.2  "
      ]
     },
     "execution_count": 3,
     "metadata": {},
     "output_type": "execute_result"
    }
   ],
   "source": [
    "data.head()"
   ]
  },
  {
   "cell_type": "code",
   "execution_count": 4,
   "id": "333d4025",
   "metadata": {},
   "outputs": [
    {
     "data": {
      "text/plain": [
       "(506, 14)"
      ]
     },
     "execution_count": 4,
     "metadata": {},
     "output_type": "execute_result"
    }
   ],
   "source": [
    "data.shape"
   ]
  },
  {
   "cell_type": "code",
   "execution_count": 5,
   "id": "e069133d",
   "metadata": {},
   "outputs": [
    {
     "data": {
      "text/plain": [
       "Index(['CRIM', 'ZN', 'INDUS', 'CHAS', 'NOX', 'RM', 'AGE', 'DIS', 'RAD', 'TAX',\n",
       "       'PTRATIO', 'B', 'LSTAT', 'MEDV'],\n",
       "      dtype='object')"
      ]
     },
     "execution_count": 5,
     "metadata": {},
     "output_type": "execute_result"
    }
   ],
   "source": [
    "data.columns"
   ]
  },
  {
   "cell_type": "code",
   "execution_count": 6,
   "id": "34424979",
   "metadata": {},
   "outputs": [
    {
     "name": "stdout",
     "output_type": "stream",
     "text": [
      "<class 'pandas.core.frame.DataFrame'>\n",
      "RangeIndex: 506 entries, 0 to 505\n",
      "Data columns (total 14 columns):\n",
      " #   Column   Non-Null Count  Dtype  \n",
      "---  ------   --------------  -----  \n",
      " 0   CRIM     486 non-null    float64\n",
      " 1   ZN       486 non-null    float64\n",
      " 2   INDUS    486 non-null    float64\n",
      " 3   CHAS     486 non-null    float64\n",
      " 4   NOX      506 non-null    float64\n",
      " 5   RM       506 non-null    float64\n",
      " 6   AGE      486 non-null    float64\n",
      " 7   DIS      506 non-null    float64\n",
      " 8   RAD      506 non-null    int64  \n",
      " 9   TAX      506 non-null    int64  \n",
      " 10  PTRATIO  506 non-null    float64\n",
      " 11  B        506 non-null    float64\n",
      " 12  LSTAT    486 non-null    float64\n",
      " 13  MEDV     506 non-null    float64\n",
      "dtypes: float64(12), int64(2)\n",
      "memory usage: 55.5 KB\n"
     ]
    }
   ],
   "source": [
    "data.info()"
   ]
  },
  {
   "cell_type": "code",
   "execution_count": 7,
   "id": "92ebed42",
   "metadata": {},
   "outputs": [
    {
     "data": {
      "text/html": [
       "<div>\n",
       "<style scoped>\n",
       "    .dataframe tbody tr th:only-of-type {\n",
       "        vertical-align: middle;\n",
       "    }\n",
       "\n",
       "    .dataframe tbody tr th {\n",
       "        vertical-align: top;\n",
       "    }\n",
       "\n",
       "    .dataframe thead th {\n",
       "        text-align: right;\n",
       "    }\n",
       "</style>\n",
       "<table border=\"1\" class=\"dataframe\">\n",
       "  <thead>\n",
       "    <tr style=\"text-align: right;\">\n",
       "      <th></th>\n",
       "      <th>count</th>\n",
       "      <th>mean</th>\n",
       "      <th>std</th>\n",
       "      <th>min</th>\n",
       "      <th>25%</th>\n",
       "      <th>50%</th>\n",
       "      <th>75%</th>\n",
       "      <th>max</th>\n",
       "    </tr>\n",
       "  </thead>\n",
       "  <tbody>\n",
       "    <tr>\n",
       "      <th>CRIM</th>\n",
       "      <td>486.0</td>\n",
       "      <td>3.611874</td>\n",
       "      <td>8.720192</td>\n",
       "      <td>0.00632</td>\n",
       "      <td>0.081900</td>\n",
       "      <td>0.253715</td>\n",
       "      <td>3.560263</td>\n",
       "      <td>88.9762</td>\n",
       "    </tr>\n",
       "    <tr>\n",
       "      <th>ZN</th>\n",
       "      <td>486.0</td>\n",
       "      <td>11.211934</td>\n",
       "      <td>23.388876</td>\n",
       "      <td>0.00000</td>\n",
       "      <td>0.000000</td>\n",
       "      <td>0.000000</td>\n",
       "      <td>12.500000</td>\n",
       "      <td>100.0000</td>\n",
       "    </tr>\n",
       "    <tr>\n",
       "      <th>INDUS</th>\n",
       "      <td>486.0</td>\n",
       "      <td>11.083992</td>\n",
       "      <td>6.835896</td>\n",
       "      <td>0.46000</td>\n",
       "      <td>5.190000</td>\n",
       "      <td>9.690000</td>\n",
       "      <td>18.100000</td>\n",
       "      <td>27.7400</td>\n",
       "    </tr>\n",
       "    <tr>\n",
       "      <th>CHAS</th>\n",
       "      <td>486.0</td>\n",
       "      <td>0.069959</td>\n",
       "      <td>0.255340</td>\n",
       "      <td>0.00000</td>\n",
       "      <td>0.000000</td>\n",
       "      <td>0.000000</td>\n",
       "      <td>0.000000</td>\n",
       "      <td>1.0000</td>\n",
       "    </tr>\n",
       "    <tr>\n",
       "      <th>NOX</th>\n",
       "      <td>506.0</td>\n",
       "      <td>0.554695</td>\n",
       "      <td>0.115878</td>\n",
       "      <td>0.38500</td>\n",
       "      <td>0.449000</td>\n",
       "      <td>0.538000</td>\n",
       "      <td>0.624000</td>\n",
       "      <td>0.8710</td>\n",
       "    </tr>\n",
       "    <tr>\n",
       "      <th>RM</th>\n",
       "      <td>506.0</td>\n",
       "      <td>6.284634</td>\n",
       "      <td>0.702617</td>\n",
       "      <td>3.56100</td>\n",
       "      <td>5.885500</td>\n",
       "      <td>6.208500</td>\n",
       "      <td>6.623500</td>\n",
       "      <td>8.7800</td>\n",
       "    </tr>\n",
       "    <tr>\n",
       "      <th>AGE</th>\n",
       "      <td>486.0</td>\n",
       "      <td>68.518519</td>\n",
       "      <td>27.999513</td>\n",
       "      <td>2.90000</td>\n",
       "      <td>45.175000</td>\n",
       "      <td>76.800000</td>\n",
       "      <td>93.975000</td>\n",
       "      <td>100.0000</td>\n",
       "    </tr>\n",
       "    <tr>\n",
       "      <th>DIS</th>\n",
       "      <td>506.0</td>\n",
       "      <td>3.795043</td>\n",
       "      <td>2.105710</td>\n",
       "      <td>1.12960</td>\n",
       "      <td>2.100175</td>\n",
       "      <td>3.207450</td>\n",
       "      <td>5.188425</td>\n",
       "      <td>12.1265</td>\n",
       "    </tr>\n",
       "    <tr>\n",
       "      <th>RAD</th>\n",
       "      <td>506.0</td>\n",
       "      <td>9.549407</td>\n",
       "      <td>8.707259</td>\n",
       "      <td>1.00000</td>\n",
       "      <td>4.000000</td>\n",
       "      <td>5.000000</td>\n",
       "      <td>24.000000</td>\n",
       "      <td>24.0000</td>\n",
       "    </tr>\n",
       "    <tr>\n",
       "      <th>TAX</th>\n",
       "      <td>506.0</td>\n",
       "      <td>408.237154</td>\n",
       "      <td>168.537116</td>\n",
       "      <td>187.00000</td>\n",
       "      <td>279.000000</td>\n",
       "      <td>330.000000</td>\n",
       "      <td>666.000000</td>\n",
       "      <td>711.0000</td>\n",
       "    </tr>\n",
       "    <tr>\n",
       "      <th>PTRATIO</th>\n",
       "      <td>506.0</td>\n",
       "      <td>18.455534</td>\n",
       "      <td>2.164946</td>\n",
       "      <td>12.60000</td>\n",
       "      <td>17.400000</td>\n",
       "      <td>19.050000</td>\n",
       "      <td>20.200000</td>\n",
       "      <td>22.0000</td>\n",
       "    </tr>\n",
       "    <tr>\n",
       "      <th>B</th>\n",
       "      <td>506.0</td>\n",
       "      <td>356.674032</td>\n",
       "      <td>91.294864</td>\n",
       "      <td>0.32000</td>\n",
       "      <td>375.377500</td>\n",
       "      <td>391.440000</td>\n",
       "      <td>396.225000</td>\n",
       "      <td>396.9000</td>\n",
       "    </tr>\n",
       "    <tr>\n",
       "      <th>LSTAT</th>\n",
       "      <td>486.0</td>\n",
       "      <td>12.715432</td>\n",
       "      <td>7.155871</td>\n",
       "      <td>1.73000</td>\n",
       "      <td>7.125000</td>\n",
       "      <td>11.430000</td>\n",
       "      <td>16.955000</td>\n",
       "      <td>37.9700</td>\n",
       "    </tr>\n",
       "    <tr>\n",
       "      <th>MEDV</th>\n",
       "      <td>506.0</td>\n",
       "      <td>22.532806</td>\n",
       "      <td>9.197104</td>\n",
       "      <td>5.00000</td>\n",
       "      <td>17.025000</td>\n",
       "      <td>21.200000</td>\n",
       "      <td>25.000000</td>\n",
       "      <td>50.0000</td>\n",
       "    </tr>\n",
       "  </tbody>\n",
       "</table>\n",
       "</div>"
      ],
      "text/plain": [
       "         count        mean         std        min         25%         50%  \\\n",
       "CRIM     486.0    3.611874    8.720192    0.00632    0.081900    0.253715   \n",
       "ZN       486.0   11.211934   23.388876    0.00000    0.000000    0.000000   \n",
       "INDUS    486.0   11.083992    6.835896    0.46000    5.190000    9.690000   \n",
       "CHAS     486.0    0.069959    0.255340    0.00000    0.000000    0.000000   \n",
       "NOX      506.0    0.554695    0.115878    0.38500    0.449000    0.538000   \n",
       "RM       506.0    6.284634    0.702617    3.56100    5.885500    6.208500   \n",
       "AGE      486.0   68.518519   27.999513    2.90000   45.175000   76.800000   \n",
       "DIS      506.0    3.795043    2.105710    1.12960    2.100175    3.207450   \n",
       "RAD      506.0    9.549407    8.707259    1.00000    4.000000    5.000000   \n",
       "TAX      506.0  408.237154  168.537116  187.00000  279.000000  330.000000   \n",
       "PTRATIO  506.0   18.455534    2.164946   12.60000   17.400000   19.050000   \n",
       "B        506.0  356.674032   91.294864    0.32000  375.377500  391.440000   \n",
       "LSTAT    486.0   12.715432    7.155871    1.73000    7.125000   11.430000   \n",
       "MEDV     506.0   22.532806    9.197104    5.00000   17.025000   21.200000   \n",
       "\n",
       "                75%       max  \n",
       "CRIM       3.560263   88.9762  \n",
       "ZN        12.500000  100.0000  \n",
       "INDUS     18.100000   27.7400  \n",
       "CHAS       0.000000    1.0000  \n",
       "NOX        0.624000    0.8710  \n",
       "RM         6.623500    8.7800  \n",
       "AGE       93.975000  100.0000  \n",
       "DIS        5.188425   12.1265  \n",
       "RAD       24.000000   24.0000  \n",
       "TAX      666.000000  711.0000  \n",
       "PTRATIO   20.200000   22.0000  \n",
       "B        396.225000  396.9000  \n",
       "LSTAT     16.955000   37.9700  \n",
       "MEDV      25.000000   50.0000  "
      ]
     },
     "execution_count": 7,
     "metadata": {},
     "output_type": "execute_result"
    }
   ],
   "source": [
    "data.describe().T"
   ]
  },
  {
   "cell_type": "markdown",
   "id": "dfe0f8cb",
   "metadata": {},
   "source": [
    "### Handling Missing Values"
   ]
  },
  {
   "cell_type": "code",
   "execution_count": 8,
   "id": "30884757",
   "metadata": {},
   "outputs": [
    {
     "data": {
      "text/plain": [
       "True"
      ]
     },
     "execution_count": 8,
     "metadata": {},
     "output_type": "execute_result"
    }
   ],
   "source": [
    "data.isnull().values.any()"
   ]
  },
  {
   "cell_type": "code",
   "execution_count": 9,
   "id": "5a327f32",
   "metadata": {},
   "outputs": [
    {
     "data": {
      "text/plain": [
       "CRIM       20\n",
       "ZN         20\n",
       "INDUS      20\n",
       "CHAS       20\n",
       "NOX         0\n",
       "RM          0\n",
       "AGE        20\n",
       "DIS         0\n",
       "RAD         0\n",
       "TAX         0\n",
       "PTRATIO     0\n",
       "B           0\n",
       "LSTAT      20\n",
       "MEDV        0\n",
       "dtype: int64"
      ]
     },
     "execution_count": 9,
     "metadata": {},
     "output_type": "execute_result"
    }
   ],
   "source": [
    "data.isnull().sum()"
   ]
  },
  {
   "cell_type": "code",
   "execution_count": 10,
   "id": "02258b2a",
   "metadata": {},
   "outputs": [],
   "source": [
    "NaN_cols = data.columns[data.isnull().any()]"
   ]
  },
  {
   "cell_type": "code",
   "execution_count": 11,
   "id": "8d9ab0d6",
   "metadata": {},
   "outputs": [],
   "source": [
    "for i in NaN_cols:\n",
    "    data[i].fillna(data[i].mean(), inplace=True)"
   ]
  },
  {
   "cell_type": "code",
   "execution_count": 12,
   "id": "a9ac989e",
   "metadata": {},
   "outputs": [
    {
     "data": {
      "text/plain": [
       "0"
      ]
     },
     "execution_count": 12,
     "metadata": {},
     "output_type": "execute_result"
    }
   ],
   "source": [
    "data.isnull().sum().sum()"
   ]
  },
  {
   "cell_type": "markdown",
   "id": "2f193a6b",
   "metadata": {},
   "source": [
    "## Train Test Split"
   ]
  },
  {
   "cell_type": "code",
   "execution_count": 13,
   "id": "8c824ee2",
   "metadata": {},
   "outputs": [],
   "source": [
    "x = data.drop('MEDV', axis=1)\n",
    "y = data['MEDV']"
   ]
  },
  {
   "cell_type": "code",
   "execution_count": 14,
   "id": "ab579f27",
   "metadata": {},
   "outputs": [],
   "source": [
    "from sklearn.model_selection import train_test_split\n",
    "\n",
    "x_train, x_test, y_train, y_test = train_test_split(x, y, test_size=0.3, random_state=0)"
   ]
  },
  {
   "cell_type": "code",
   "execution_count": 15,
   "id": "b8486e20",
   "metadata": {},
   "outputs": [
    {
     "data": {
      "text/plain": [
       "((354, 13), (152, 13), (354,), (152,))"
      ]
     },
     "execution_count": 15,
     "metadata": {},
     "output_type": "execute_result"
    }
   ],
   "source": [
    "x_train.shape, x_test.shape, y_train.shape, y_test.shape"
   ]
  },
  {
   "cell_type": "markdown",
   "id": "3c247a3a",
   "metadata": {},
   "source": [
    "# Model Building"
   ]
  },
  {
   "cell_type": "markdown",
   "id": "aee6422a",
   "metadata": {},
   "source": [
    "## 1. Linear Regression"
   ]
  },
  {
   "cell_type": "code",
   "execution_count": 16,
   "id": "48814bce",
   "metadata": {},
   "outputs": [],
   "source": [
    "from sklearn.linear_model import LinearRegression\n",
    "\n",
    "lr_model = LinearRegression()"
   ]
  },
  {
   "cell_type": "code",
   "execution_count": 17,
   "id": "4d6272ca",
   "metadata": {},
   "outputs": [
    {
     "data": {
      "text/html": [
       "<style>#sk-container-id-1 {color: black;background-color: white;}#sk-container-id-1 pre{padding: 0;}#sk-container-id-1 div.sk-toggleable {background-color: white;}#sk-container-id-1 label.sk-toggleable__label {cursor: pointer;display: block;width: 100%;margin-bottom: 0;padding: 0.3em;box-sizing: border-box;text-align: center;}#sk-container-id-1 label.sk-toggleable__label-arrow:before {content: \"▸\";float: left;margin-right: 0.25em;color: #696969;}#sk-container-id-1 label.sk-toggleable__label-arrow:hover:before {color: black;}#sk-container-id-1 div.sk-estimator:hover label.sk-toggleable__label-arrow:before {color: black;}#sk-container-id-1 div.sk-toggleable__content {max-height: 0;max-width: 0;overflow: hidden;text-align: left;background-color: #f0f8ff;}#sk-container-id-1 div.sk-toggleable__content pre {margin: 0.2em;color: black;border-radius: 0.25em;background-color: #f0f8ff;}#sk-container-id-1 input.sk-toggleable__control:checked~div.sk-toggleable__content {max-height: 200px;max-width: 100%;overflow: auto;}#sk-container-id-1 input.sk-toggleable__control:checked~label.sk-toggleable__label-arrow:before {content: \"▾\";}#sk-container-id-1 div.sk-estimator input.sk-toggleable__control:checked~label.sk-toggleable__label {background-color: #d4ebff;}#sk-container-id-1 div.sk-label input.sk-toggleable__control:checked~label.sk-toggleable__label {background-color: #d4ebff;}#sk-container-id-1 input.sk-hidden--visually {border: 0;clip: rect(1px 1px 1px 1px);clip: rect(1px, 1px, 1px, 1px);height: 1px;margin: -1px;overflow: hidden;padding: 0;position: absolute;width: 1px;}#sk-container-id-1 div.sk-estimator {font-family: monospace;background-color: #f0f8ff;border: 1px dotted black;border-radius: 0.25em;box-sizing: border-box;margin-bottom: 0.5em;}#sk-container-id-1 div.sk-estimator:hover {background-color: #d4ebff;}#sk-container-id-1 div.sk-parallel-item::after {content: \"\";width: 100%;border-bottom: 1px solid gray;flex-grow: 1;}#sk-container-id-1 div.sk-label:hover label.sk-toggleable__label {background-color: #d4ebff;}#sk-container-id-1 div.sk-serial::before {content: \"\";position: absolute;border-left: 1px solid gray;box-sizing: border-box;top: 0;bottom: 0;left: 50%;z-index: 0;}#sk-container-id-1 div.sk-serial {display: flex;flex-direction: column;align-items: center;background-color: white;padding-right: 0.2em;padding-left: 0.2em;position: relative;}#sk-container-id-1 div.sk-item {position: relative;z-index: 1;}#sk-container-id-1 div.sk-parallel {display: flex;align-items: stretch;justify-content: center;background-color: white;position: relative;}#sk-container-id-1 div.sk-item::before, #sk-container-id-1 div.sk-parallel-item::before {content: \"\";position: absolute;border-left: 1px solid gray;box-sizing: border-box;top: 0;bottom: 0;left: 50%;z-index: -1;}#sk-container-id-1 div.sk-parallel-item {display: flex;flex-direction: column;z-index: 1;position: relative;background-color: white;}#sk-container-id-1 div.sk-parallel-item:first-child::after {align-self: flex-end;width: 50%;}#sk-container-id-1 div.sk-parallel-item:last-child::after {align-self: flex-start;width: 50%;}#sk-container-id-1 div.sk-parallel-item:only-child::after {width: 0;}#sk-container-id-1 div.sk-dashed-wrapped {border: 1px dashed gray;margin: 0 0.4em 0.5em 0.4em;box-sizing: border-box;padding-bottom: 0.4em;background-color: white;}#sk-container-id-1 div.sk-label label {font-family: monospace;font-weight: bold;display: inline-block;line-height: 1.2em;}#sk-container-id-1 div.sk-label-container {text-align: center;}#sk-container-id-1 div.sk-container {/* jupyter's `normalize.less` sets `[hidden] { display: none; }` but bootstrap.min.css set `[hidden] { display: none !important; }` so we also need the `!important` here to be able to override the default hidden behavior on the sphinx rendered scikit-learn.org. See: https://github.com/scikit-learn/scikit-learn/issues/21755 */display: inline-block !important;position: relative;}#sk-container-id-1 div.sk-text-repr-fallback {display: none;}</style><div id=\"sk-container-id-1\" class=\"sk-top-container\"><div class=\"sk-text-repr-fallback\"><pre>LinearRegression()</pre><b>In a Jupyter environment, please rerun this cell to show the HTML representation or trust the notebook. <br />On GitHub, the HTML representation is unable to render, please try loading this page with nbviewer.org.</b></div><div class=\"sk-container\" hidden><div class=\"sk-item\"><div class=\"sk-estimator sk-toggleable\"><input class=\"sk-toggleable__control sk-hidden--visually\" id=\"sk-estimator-id-1\" type=\"checkbox\" checked><label for=\"sk-estimator-id-1\" class=\"sk-toggleable__label sk-toggleable__label-arrow\">LinearRegression</label><div class=\"sk-toggleable__content\"><pre>LinearRegression()</pre></div></div></div></div></div>"
      ],
      "text/plain": [
       "LinearRegression()"
      ]
     },
     "execution_count": 17,
     "metadata": {},
     "output_type": "execute_result"
    }
   ],
   "source": [
    "lr_model.fit(x_train, y_train)"
   ]
  },
  {
   "cell_type": "code",
   "execution_count": 18,
   "id": "ee64c63a",
   "metadata": {
    "collapsed": true
   },
   "outputs": [
    {
     "data": {
      "text/plain": [
       "array([ 4.91960676, 28.29166688, 16.92926017, 29.66365002, 19.20846949,\n",
       "       16.11364814, 18.20345695, 12.73011459,  9.44807541, 19.13810977,\n",
       "       33.76794596, 32.87001104, 23.41108169, 20.02848421, 22.90313118,\n",
       "       26.4760545 , 21.18402794, 17.75932365, 32.32392491, 10.52930577,\n",
       "       19.13700353, 31.95056636, 18.96468755, 15.80801235, 18.9754202 ,\n",
       "       15.06599975, 24.26029621, 23.18686629, 17.53522807, 13.89629053,\n",
       "       20.41934897, 24.01696206, 17.57497761, 25.4986665 , 22.4990816 ,\n",
       "       27.71322652, 36.94969941, 16.89675155, 12.5922186 , 34.9746024 ,\n",
       "       31.41468422, 20.29571853, 39.95528305, 28.70453744, 28.38641618,\n",
       "       17.77187987, 26.95989702, 40.69636406, 27.54360462, 17.31310293,\n",
       "       37.51405745, 35.49317327, 14.2370953 , 27.74288972, 22.00632016,\n",
       "       24.76385811, 21.24921515, 23.56086785, 27.98929039, 29.74610071,\n",
       "       14.55959452, 25.8988581 , 22.88173178, 14.11721984, 14.0755255 ,\n",
       "       25.72579347, 19.57025219, 30.48754821, 10.26033866, 24.48648226,\n",
       "       17.02740232, 17.16848641, 22.38066554, 21.99462745, 11.99478382,\n",
       "       25.25223783, 28.37152449, 20.87526971, 12.90473407, 25.03635483,\n",
       "       26.53586221, 25.51016223, 23.58339464, 25.8777975 , 19.43109441,\n",
       "       20.77517856, 36.11349161, 21.05748884, 36.94889567, 25.47584718,\n",
       "       20.90728459, 15.58884056, 31.92770066, 21.01452659, 28.13765351,\n",
       "       14.78529193, 32.51946517, 14.37037649,  2.05942186, 19.51358106,\n",
       "       14.53449486, 37.73271766, 16.31206679, 14.39761881, 26.82828166,\n",
       "       23.3701127 , 17.43279402, 31.05760029, 25.28405336, 27.39292618,\n",
       "       24.84242498, 22.76006523, 22.43276575, 11.33466494, 20.81351504,\n",
       "       11.71689966, 17.36365419, 13.0232198 , 27.58660561, 15.0989343 ,\n",
       "       15.99907511, 28.4785468 , 14.72990838, 21.58753436, 12.58784084,\n",
       "       14.57807598, 23.62305629, 21.34953251, 14.46264762, 17.08941987,\n",
       "       12.79914975, 24.13812934, 12.46631484, 35.37229371, 14.19804287,\n",
       "       43.22877716, 32.00328359, 34.78406486, 21.91345884, 15.57222153,\n",
       "       27.09507374, 29.16828083, 13.71796464, 26.76189252, 36.30128205,\n",
       "       17.01562115, 11.50859361, 34.53356523, 36.40856818, 18.03969035,\n",
       "       21.18702545, 18.3722824 , 24.46694224, 19.5090704 , 26.87504553,\n",
       "       -4.0398209 , 20.8876339 , 32.89986114, 35.67713156, 25.07419639,\n",
       "       26.99709227, 20.37959427, 21.58586322, 15.87225678, 17.8225038 ,\n",
       "       21.22248707, 27.8773511 , 19.99056411,  6.97111253, 16.23040041,\n",
       "       32.32371422, 35.48313808, 16.44051352, 18.7578733 , 22.47254329,\n",
       "        6.31173619, 21.23932475, 23.44087879, 15.89326938, 18.44324429,\n",
       "       23.09562197, 26.9237054 , 26.12967821, 32.82873815, 15.30623679,\n",
       "       28.88796271, 24.42971228, 20.93858439, 38.56501382, 19.88343404,\n",
       "       23.65335236, 22.60638396, 12.05997562, 20.05625742, 33.47268214,\n",
       "       24.57205161, 17.81611838, 33.3218954 , 22.16058493, 28.72886844,\n",
       "       32.18334357, 36.55796656, 21.3884467 , 24.25042544, 23.08358987,\n",
       "       31.9663653 , 22.26435233, 18.27599535, 21.6578291 , 29.22988673,\n",
       "       22.81642088, 21.69283103, 17.15481914, 17.40088539, 17.01010748,\n",
       "       17.05671058, 16.66489604, 32.30614638, 22.93013229, 17.5324577 ,\n",
       "       19.29157922, 34.26665279, 13.87175087, 25.98175604, 17.01045924,\n",
       "       30.65688733, 29.80493837, 21.49259681, 20.89496492, 36.36326618,\n",
       "       20.23974192, 33.50726237, 21.41239872, 31.61818483, 30.77594861,\n",
       "       37.28895712, 25.80011551, 21.00765365, 29.30358732, 16.00053289,\n",
       "       26.10867638, 21.33820716, 30.00994514,  9.90161429, 31.07178167,\n",
       "        6.07156577, 15.24051004, 20.33312343, 35.73189262, 31.9633779 ,\n",
       "       11.95405906, 13.39923406, 21.81996058, 34.8710296 , 19.07287136,\n",
       "       18.59275272, 15.47633866, 25.56263126, 41.04401481, 25.38464512,\n",
       "       42.06249643, 25.40101954, 21.00581367, 12.07023978, 15.90932001,\n",
       "       14.75657752, 18.72605316,  3.0793944 , 27.75196452, 26.39523764,\n",
       "       41.82660726, 21.70477743, 21.37072434, 34.15182264, 32.49706097,\n",
       "       10.17584009, 24.82529042, 43.91271047, 21.99281763, 17.69118289,\n",
       "       26.21414854, 18.59413943,  6.27080957, 18.85317099, 36.02116136,\n",
       "       16.92661763, 23.89078115, 13.08550479, 24.17915595, 18.40246178,\n",
       "       17.18417318, 18.47914593, 33.06078612, 19.28696351, 29.76476192,\n",
       "       32.44509307, 42.06759507, 18.3959245 , 15.55108145, 38.25311621,\n",
       "       17.56268417, 10.59626134, 14.74339286, 25.31903436, 19.44885498,\n",
       "       16.57229508, 26.28992315, 14.05519606,  5.83553845, 18.72371084,\n",
       "       10.64902243, 28.21464126,  4.9641689 , 28.57689674, 32.92339114,\n",
       "       22.62874999, 16.3880762 , 18.41606308, 21.03372439, 33.74153319,\n",
       "       28.15551113, 19.40735615, 20.48710155,  6.86961386, 28.97471149,\n",
       "       25.13696519, 22.3106124 , 13.64471414, 24.85843861, 19.2511801 ,\n",
       "        8.99328824, 26.80323701, 16.08231852, 31.60374161, 31.65714219,\n",
       "       25.06144308, 18.46347757, 30.58204103, 21.31396001, 26.06855932,\n",
       "       24.30632299, 31.21019691, 24.24441616, 31.70080819, 17.64417539,\n",
       "       19.23605414, 18.75344123, 41.29404152, 25.51117245, 19.13020533,\n",
       "       33.33221247, 23.68009442, 17.83829324, 23.12396934])"
      ]
     },
     "execution_count": 18,
     "metadata": {},
     "output_type": "execute_result"
    }
   ],
   "source": [
    "y_pred_train = lr_model.predict(x_train)\n",
    "y_pred_train"
   ]
  },
  {
   "cell_type": "code",
   "execution_count": 19,
   "id": "cbdc84f2",
   "metadata": {
    "collapsed": true
   },
   "outputs": [
    {
     "data": {
      "text/plain": [
       "array([26.31812567, 22.79683143, 29.23125997, 11.49183765, 21.53268658,\n",
       "       19.39474608, 20.29386219, 21.36107549, 19.40186815, 20.52956198,\n",
       "        4.86056552, 16.73812114, 16.9864988 ,  5.19197768, 39.65749246,\n",
       "       32.93591762, 21.94297235, 36.31903747, 31.75129894, 23.59201076,\n",
       "       24.94683457, 23.53579064, 20.98657957, 30.62139449, 22.64451417,\n",
       "        8.98366311, 17.48902883, 17.95985097, 36.10671343, 21.0619906 ,\n",
       "       17.82227837, 17.41457064, 18.97315499, 23.1069634 , 28.97706411,\n",
       "       19.62378019, 11.1975275 , 24.4689843 , 18.37701745, 15.46836265,\n",
       "       26.2559486 , 21.41178222, 23.76140365, 14.79630202, 23.72475887,\n",
       "       24.70721374, 19.6676127 , 23.36258703, 10.16371693, 24.64066927,\n",
       "       22.38068556, 18.88647418, 24.45953959, 30.8951372 , 13.07048809,\n",
       "       22.16165932, 21.10431701, 15.7260599 , 13.01007866, 22.81205055,\n",
       "       17.76523078, 21.84679385, 32.53873152, 31.49326404, 17.56515261,\n",
       "       33.27739347, 19.36752973, 19.33276875, 20.55083554, 24.00740687,\n",
       "       22.71387429, 24.18781316, 30.70306435, 28.76019835, 25.1830508 ,\n",
       "        5.48272816, 37.12597774, 24.10933097, 27.73812549, 19.65164173,\n",
       "       28.56139055, 18.84540995, 17.76724194, 38.11105517, 39.6326738 ,\n",
       "       24.18311238, 25.31510774, 17.47135331, 25.37839827, 16.70786781,\n",
       "       16.22770645, 13.7870301 , 24.33319944, 30.80971715, 22.20564429,\n",
       "       20.15419244,  0.65469314, 25.03393532, 16.07639948, 17.26446056,\n",
       "       25.88795925, 22.45974633, 33.08259082, 22.49284017, 27.77764084,\n",
       "       23.41372518,  6.87755537, 14.1408893 , 22.1851044 , 29.24256904,\n",
       "       32.54100816, 13.13460107, 19.63451082, 21.6119746 , 12.42837375,\n",
       "       24.17727706,  6.38931914, 19.17654426,  9.12004559, 45.5700818 ,\n",
       "       30.61553142, 17.37100806, 17.50455613, 21.96912794, 23.35435501,\n",
       "       19.07220829, 35.08173015, 13.19347649, 20.67489029, 35.87661612,\n",
       "       19.15224345, 14.23919831, 13.99588921, 22.26912205, 15.62285995,\n",
       "       31.10165607, 25.39820194, 16.20613532, 24.64012002, 10.26963167,\n",
       "       15.03962498, 21.93624984, 33.2239753 , 28.10000752, 24.89576262,\n",
       "       15.30529006, 31.72027923, 25.13888543, 14.72064767,  7.77512248,\n",
       "       27.91320559, 25.22555235])"
      ]
     },
     "execution_count": 19,
     "metadata": {},
     "output_type": "execute_result"
    }
   ],
   "source": [
    "y_pred = lr_model.predict(x_test)\n",
    "y_pred"
   ]
  },
  {
   "cell_type": "code",
   "execution_count": 20,
   "id": "c65992e5",
   "metadata": {},
   "outputs": [
    {
     "name": "stdout",
     "output_type": "stream",
     "text": [
      "Training Set :75.82%\n",
      "Testing Set :65.46%\n"
     ]
    }
   ],
   "source": [
    "from sklearn.metrics import r2_score, mean_absolute_error, mean_squared_error\n",
    "\n",
    "print('Training Set :{:.2f}%'.format(r2_score(y_train,y_pred_train)*100))\n",
    "print('Testing Set :{:.2f}%'.format(r2_score(y_test,y_pred)*100))"
   ]
  },
  {
   "cell_type": "code",
   "execution_count": 21,
   "id": "40164a55",
   "metadata": {},
   "outputs": [
    {
     "name": "stdout",
     "output_type": "stream",
     "text": [
      "MAE: 3.74\n",
      "MSE: 28.76\n",
      "RMSE: 5.36\n"
     ]
    }
   ],
   "source": [
    "print('MAE: {:.2f}'.format(mean_absolute_error(y_test,y_pred)))\n",
    "print('MSE: {:.2f}'.format(mean_squared_error(y_test,y_pred)))\n",
    "print('RMSE: {:.2f}'.format(np.sqrt(mean_squared_error(y_test,y_pred))))"
   ]
  },
  {
   "cell_type": "markdown",
   "id": "a94489f6",
   "metadata": {},
   "source": [
    "### Finding Best value for degree"
   ]
  },
  {
   "cell_type": "code",
   "execution_count": 23,
   "id": "3fdb7339",
   "metadata": {},
   "outputs": [
    {
     "data": {
      "text/plain": [
       "[<matplotlib.lines.Line2D at 0x1a7a9a9e550>]"
      ]
     },
     "execution_count": 23,
     "metadata": {},
     "output_type": "execute_result"
    },
    {
     "data": {
      "image/png": "[encoded data removed]",
      "text/plain": [
       "<Figure size 640x480 with 1 Axes>"
      ]
     },
     "metadata": {},
     "output_type": "display_data"
    }
   ],
   "source": [
    "from sklearn.preprocessing import PolynomialFeatures\n",
    "\n",
    "n_degree = [1,2,3,4,5,6]\n",
    "plt_mean_square_error = []\n",
    "\n",
    "for degree in n_degree:\n",
    "    poly_model = PolynomialFeatures(degree=degree)\n",
    "    \n",
    "    poly_model.fit(x_train)\n",
    "    poly_x_train = poly_model.transform(x_train)\n",
    "    poly_x_test = poly_model.transform(x_test)\n",
    "    \n",
    "    lreg_model = LinearRegression()\n",
    "    lreg_model.fit(poly_x_train, y_train)\n",
    "    y_pred = lreg_model.predict(poly_x_test)\n",
    "    \n",
    "    plt_mean_square_error.append(mean_squared_error(y_test, y_pred, squared=False))\n",
    "    \n",
    "plt.scatter(n_degree, plt_mean_square_error, color='green')\n",
    "plt.plot(n_degree, plt_mean_square_error, color='red')"
   ]
  },
  {
   "cell_type": "markdown",
   "id": "c48c9224",
   "metadata": {},
   "source": [
    "## 2. Polynomial Regression (Degree=2)"
   ]
  },
  {
   "cell_type": "code",
   "execution_count": 24,
   "id": "e2b7c60d",
   "metadata": {},
   "outputs": [],
   "source": [
    "from sklearn.preprocessing import PolynomialFeatures\n",
    "\n",
    "poly_reg = PolynomialFeatures(degree=2)"
   ]
  },
  {
   "cell_type": "code",
   "execution_count": 25,
   "id": "85cff005",
   "metadata": {},
   "outputs": [
    {
     "data": {
      "text/html": [
       "<style>#sk-container-id-2 {color: black;background-color: white;}#sk-container-id-2 pre{padding: 0;}#sk-container-id-2 div.sk-toggleable {background-color: white;}#sk-container-id-2 label.sk-toggleable__label {cursor: pointer;display: block;width: 100%;margin-bottom: 0;padding: 0.3em;box-sizing: border-box;text-align: center;}#sk-container-id-2 label.sk-toggleable__label-arrow:before {content: \"▸\";float: left;margin-right: 0.25em;color: #696969;}#sk-container-id-2 label.sk-toggleable__label-arrow:hover:before {color: black;}#sk-container-id-2 div.sk-estimator:hover label.sk-toggleable__label-arrow:before {color: black;}#sk-container-id-2 div.sk-toggleable__content {max-height: 0;max-width: 0;overflow: hidden;text-align: left;background-color: #f0f8ff;}#sk-container-id-2 div.sk-toggleable__content pre {margin: 0.2em;color: black;border-radius: 0.25em;background-color: #f0f8ff;}#sk-container-id-2 input.sk-toggleable__control:checked~div.sk-toggleable__content {max-height: 200px;max-width: 100%;overflow: auto;}#sk-container-id-2 input.sk-toggleable__control:checked~label.sk-toggleable__label-arrow:before {content: \"▾\";}#sk-container-id-2 div.sk-estimator input.sk-toggleable__control:checked~label.sk-toggleable__label {background-color: #d4ebff;}#sk-container-id-2 div.sk-label input.sk-toggleable__control:checked~label.sk-toggleable__label {background-color: #d4ebff;}#sk-container-id-2 input.sk-hidden--visually {border: 0;clip: rect(1px 1px 1px 1px);clip: rect(1px, 1px, 1px, 1px);height: 1px;margin: -1px;overflow: hidden;padding: 0;position: absolute;width: 1px;}#sk-container-id-2 div.sk-estimator {font-family: monospace;background-color: #f0f8ff;border: 1px dotted black;border-radius: 0.25em;box-sizing: border-box;margin-bottom: 0.5em;}#sk-container-id-2 div.sk-estimator:hover {background-color: #d4ebff;}#sk-container-id-2 div.sk-parallel-item::after {content: \"\";width: 100%;border-bottom: 1px solid gray;flex-grow: 1;}#sk-container-id-2 div.sk-label:hover label.sk-toggleable__label {background-color: #d4ebff;}#sk-container-id-2 div.sk-serial::before {content: \"\";position: absolute;border-left: 1px solid gray;box-sizing: border-box;top: 0;bottom: 0;left: 50%;z-index: 0;}#sk-container-id-2 div.sk-serial {display: flex;flex-direction: column;align-items: center;background-color: white;padding-right: 0.2em;padding-left: 0.2em;position: relative;}#sk-container-id-2 div.sk-item {position: relative;z-index: 1;}#sk-container-id-2 div.sk-parallel {display: flex;align-items: stretch;justify-content: center;background-color: white;position: relative;}#sk-container-id-2 div.sk-item::before, #sk-container-id-2 div.sk-parallel-item::before {content: \"\";position: absolute;border-left: 1px solid gray;box-sizing: border-box;top: 0;bottom: 0;left: 50%;z-index: -1;}#sk-container-id-2 div.sk-parallel-item {display: flex;flex-direction: column;z-index: 1;position: relative;background-color: white;}#sk-container-id-2 div.sk-parallel-item:first-child::after {align-self: flex-end;width: 50%;}#sk-container-id-2 div.sk-parallel-item:last-child::after {align-self: flex-start;width: 50%;}#sk-container-id-2 div.sk-parallel-item:only-child::after {width: 0;}#sk-container-id-2 div.sk-dashed-wrapped {border: 1px dashed gray;margin: 0 0.4em 0.5em 0.4em;box-sizing: border-box;padding-bottom: 0.4em;background-color: white;}#sk-container-id-2 div.sk-label label {font-family: monospace;font-weight: bold;display: inline-block;line-height: 1.2em;}#sk-container-id-2 div.sk-label-container {text-align: center;}#sk-container-id-2 div.sk-container {/* jupyter's `normalize.less` sets `[hidden] { display: none; }` but bootstrap.min.css set `[hidden] { display: none !important; }` so we also need the `!important` here to be able to override the default hidden behavior on the sphinx rendered scikit-learn.org. See: https://github.com/scikit-learn/scikit-learn/issues/21755 */display: inline-block !important;position: relative;}#sk-container-id-2 div.sk-text-repr-fallback {display: none;}</style><div id=\"sk-container-id-2\" class=\"sk-top-container\"><div class=\"sk-text-repr-fallback\"><pre>PolynomialFeatures()</pre><b>In a Jupyter environment, please rerun this cell to show the HTML representation or trust the notebook. <br />On GitHub, the HTML representation is unable to render, please try loading this page with nbviewer.org.</b></div><div class=\"sk-container\" hidden><div class=\"sk-item\"><div class=\"sk-estimator sk-toggleable\"><input class=\"sk-toggleable__control sk-hidden--visually\" id=\"sk-estimator-id-2\" type=\"checkbox\" checked><label for=\"sk-estimator-id-2\" class=\"sk-toggleable__label sk-toggleable__label-arrow\">PolynomialFeatures</label><div class=\"sk-toggleable__content\"><pre>PolynomialFeatures()</pre></div></div></div></div></div>"
      ],
      "text/plain": [
       "PolynomialFeatures()"
      ]
     },
     "execution_count": 25,
     "metadata": {},
     "output_type": "execute_result"
    }
   ],
   "source": [
    "poly_reg.fit(x_train)"
   ]
  },
  {
   "cell_type": "code",
   "execution_count": 26,
   "id": "01a50147",
   "metadata": {},
   "outputs": [],
   "source": [
    "x_train_ = poly_reg.transform(x_train)\n",
    "x_test_ = poly_reg.transform(x_test)"
   ]
  },
  {
   "cell_type": "code",
   "execution_count": 27,
   "id": "24403933",
   "metadata": {},
   "outputs": [
    {
     "data": {
      "text/plain": [
       "((354, 105), (152, 105))"
      ]
     },
     "execution_count": 27,
     "metadata": {},
     "output_type": "execute_result"
    }
   ],
   "source": [
    "x_train_.shape, x_test_.shape"
   ]
  },
  {
   "cell_type": "code",
   "execution_count": 28,
   "id": "8ee25dcd",
   "metadata": {},
   "outputs": [
    {
     "data": {
      "text/html": [
       "<style>#sk-container-id-3 {color: black;background-color: white;}#sk-container-id-3 pre{padding: 0;}#sk-container-id-3 div.sk-toggleable {background-color: white;}#sk-container-id-3 label.sk-toggleable__label {cursor: pointer;display: block;width: 100%;margin-bottom: 0;padding: 0.3em;box-sizing: border-box;text-align: center;}#sk-container-id-3 label.sk-toggleable__label-arrow:before {content: \"▸\";float: left;margin-right: 0.25em;color: #696969;}#sk-container-id-3 label.sk-toggleable__label-arrow:hover:before {color: black;}#sk-container-id-3 div.sk-estimator:hover label.sk-toggleable__label-arrow:before {color: black;}#sk-container-id-3 div.sk-toggleable__content {max-height: 0;max-width: 0;overflow: hidden;text-align: left;background-color: #f0f8ff;}#sk-container-id-3 div.sk-toggleable__content pre {margin: 0.2em;color: black;border-radius: 0.25em;background-color: #f0f8ff;}#sk-container-id-3 input.sk-toggleable__control:checked~div.sk-toggleable__content {max-height: 200px;max-width: 100%;overflow: auto;}#sk-container-id-3 input.sk-toggleable__control:checked~label.sk-toggleable__label-arrow:before {content: \"▾\";}#sk-container-id-3 div.sk-estimator input.sk-toggleable__control:checked~label.sk-toggleable__label {background-color: #d4ebff;}#sk-container-id-3 div.sk-label input.sk-toggleable__control:checked~label.sk-toggleable__label {background-color: #d4ebff;}#sk-container-id-3 input.sk-hidden--visually {border: 0;clip: rect(1px 1px 1px 1px);clip: rect(1px, 1px, 1px, 1px);height: 1px;margin: -1px;overflow: hidden;padding: 0;position: absolute;width: 1px;}#sk-container-id-3 div.sk-estimator {font-family: monospace;background-color: #f0f8ff;border: 1px dotted black;border-radius: 0.25em;box-sizing: border-box;margin-bottom: 0.5em;}#sk-container-id-3 div.sk-estimator:hover {background-color: #d4ebff;}#sk-container-id-3 div.sk-parallel-item::after {content: \"\";width: 100%;border-bottom: 1px solid gray;flex-grow: 1;}#sk-container-id-3 div.sk-label:hover label.sk-toggleable__label {background-color: #d4ebff;}#sk-container-id-3 div.sk-serial::before {content: \"\";position: absolute;border-left: 1px solid gray;box-sizing: border-box;top: 0;bottom: 0;left: 50%;z-index: 0;}#sk-container-id-3 div.sk-serial {display: flex;flex-direction: column;align-items: center;background-color: white;padding-right: 0.2em;padding-left: 0.2em;position: relative;}#sk-container-id-3 div.sk-item {position: relative;z-index: 1;}#sk-container-id-3 div.sk-parallel {display: flex;align-items: stretch;justify-content: center;background-color: white;position: relative;}#sk-container-id-3 div.sk-item::before, #sk-container-id-3 div.sk-parallel-item::before {content: \"\";position: absolute;border-left: 1px solid gray;box-sizing: border-box;top: 0;bottom: 0;left: 50%;z-index: -1;}#sk-container-id-3 div.sk-parallel-item {display: flex;flex-direction: column;z-index: 1;position: relative;background-color: white;}#sk-container-id-3 div.sk-parallel-item:first-child::after {align-self: flex-end;width: 50%;}#sk-container-id-3 div.sk-parallel-item:last-child::after {align-self: flex-start;width: 50%;}#sk-container-id-3 div.sk-parallel-item:only-child::after {width: 0;}#sk-container-id-3 div.sk-dashed-wrapped {border: 1px dashed gray;margin: 0 0.4em 0.5em 0.4em;box-sizing: border-box;padding-bottom: 0.4em;background-color: white;}#sk-container-id-3 div.sk-label label {font-family: monospace;font-weight: bold;display: inline-block;line-height: 1.2em;}#sk-container-id-3 div.sk-label-container {text-align: center;}#sk-container-id-3 div.sk-container {/* jupyter's `normalize.less` sets `[hidden] { display: none; }` but bootstrap.min.css set `[hidden] { display: none !important; }` so we also need the `!important` here to be able to override the default hidden behavior on the sphinx rendered scikit-learn.org. See: https://github.com/scikit-learn/scikit-learn/issues/21755 */display: inline-block !important;position: relative;}#sk-container-id-3 div.sk-text-repr-fallback {display: none;}</style><div id=\"sk-container-id-3\" class=\"sk-top-container\"><div class=\"sk-text-repr-fallback\"><pre>LinearRegression()</pre><b>In a Jupyter environment, please rerun this cell to show the HTML representation or trust the notebook. <br />On GitHub, the HTML representation is unable to render, please try loading this page with nbviewer.org.</b></div><div class=\"sk-container\" hidden><div class=\"sk-item\"><div class=\"sk-estimator sk-toggleable\"><input class=\"sk-toggleable__control sk-hidden--visually\" id=\"sk-estimator-id-3\" type=\"checkbox\" checked><label for=\"sk-estimator-id-3\" class=\"sk-toggleable__label sk-toggleable__label-arrow\">LinearRegression</label><div class=\"sk-toggleable__content\"><pre>LinearRegression()</pre></div></div></div></div></div>"
      ],
      "text/plain": [
       "LinearRegression()"
      ]
     },
     "execution_count": 28,
     "metadata": {},
     "output_type": "execute_result"
    }
   ],
   "source": [
    "lr_model_ = LinearRegression()\n",
    "lr_model_.fit(x_train_, y_train)"
   ]
  },
  {
   "cell_type": "code",
   "execution_count": 29,
   "id": "1ffe95da",
   "metadata": {
    "collapsed": true
   },
   "outputs": [
    {
     "data": {
      "text/plain": [
       "array([14.08229327, 28.44215488, 16.93839741, 25.73969054, 21.19969106,\n",
       "       16.31229758, 17.20280981, 12.200037  ,  7.62311196, 17.36385965,\n",
       "       32.9251132 , 33.26509023, 33.71217394, 21.62426114, 22.08742809,\n",
       "       24.14507222, 22.08390307, 17.76124763, 29.03250551, 12.38541865,\n",
       "       18.45066214, 27.74784184, 20.67695856, 10.38092065, 19.19410872,\n",
       "       16.93888426, 22.57016826, 23.94207096, 14.85174394, 11.08006716,\n",
       "       20.03887367, 23.00687218, 17.04231787, 25.76826096, 24.82523274,\n",
       "       25.54558396, 46.10283422, 14.34358692,  9.53062415, 34.91035676,\n",
       "       31.15813637, 17.50028968, 43.0355413 , 22.94654512, 24.2491231 ,\n",
       "       18.47425938, 25.88371611, 45.12881875, 26.18430138, 17.03889322,\n",
       "       40.20916104, 33.94049239, 19.37593889, 26.65535569, 21.72704196,\n",
       "       25.10356617, 23.19376588, 19.06976461, 27.6581254 , 25.62089062,\n",
       "       10.61391449, 21.99266791, 19.38297653,  9.56448507, 14.59797335,\n",
       "       25.5984118 , 18.64426351, 34.06022692, 15.54160619, 18.61934423,\n",
       "       17.24420714, 15.30897307, 19.64833784, 21.59982514, 13.63362813,\n",
       "       22.22180438, 24.32616496, 22.16753244, 13.76438737, 23.00780487,\n",
       "       23.43895221, 31.43056011, 21.55953097, 25.53712225, 15.61263204,\n",
       "       16.31408978, 36.17455244, 16.43904567, 25.72991276, 25.88828874,\n",
       "       20.74208617, 14.41088557, 31.01949167, 27.02539778, 30.02099681,\n",
       "       15.70832491, 32.86598849, 15.59480572, 13.795017  , 13.97459579,\n",
       "       15.94714427, 43.95055985, 14.28673601, 13.43315887, 29.27561307,\n",
       "       22.36529422, 13.41284227, 33.30080533, 25.65506911, 25.27939868,\n",
       "       22.33335471, 23.34429526, 21.17345119,  6.79109716, 20.9098804 ,\n",
       "       33.5807116 , 18.30996013, 12.82343674, 27.8389504 , 16.07949781,\n",
       "       15.4732933 , 29.5421536 , 15.28570676, 21.23906469, 11.64437723,\n",
       "       15.5909152 , 25.27540326, 19.61442208, 19.93156242, 20.04790211,\n",
       "       20.26817799, 22.67002344, 11.00707436, 35.83387256, 23.96402669,\n",
       "       52.16242933, 25.38185215, 32.28096414, 20.93675184, 14.98930621,\n",
       "       24.311028  , 25.45930696, 14.61702657, 24.03288054, 47.52221274,\n",
       "       18.66683507, 12.75096178, 35.06447291, 35.33670831, 16.62472844,\n",
       "       20.41290617, 18.42850447, 23.43102121, 20.84007239, 21.5969007 ,\n",
       "        7.54949665, 19.98798084, 37.32299638, 43.70862794, 23.06680775,\n",
       "       26.46721864, 21.08826256, 24.48338628, 16.52500892, 11.39615321,\n",
       "       23.05588984, 26.023417  , 17.86333418, 16.21179152, 15.27953649,\n",
       "       32.4369998 , 35.30890536, 20.84304667, 17.32897878, 22.47746086,\n",
       "        4.70387387, 22.85836244, 18.66372752, 15.44357514, 18.69596982,\n",
       "       19.26793265, 28.73030424, 22.99551797, 36.39793444, 12.45337534,\n",
       "       31.81533575, 32.18594289, 20.66980124, 45.3964839 , 18.97840095,\n",
       "       21.57476187, 19.8829236 , 10.58015633, 23.68987179, 33.54013586,\n",
       "       22.02144837, 14.88250399, 37.61625671, 14.94446659, 28.76708555,\n",
       "       32.52586508, 37.53918052, 19.21809173, 12.85308552, 22.68283224,\n",
       "       31.0469594 , 20.03012133, 19.68325472, 19.07056952, 29.61110616,\n",
       "       21.26114392, 19.52044964, 18.70177269, 12.40362167, 11.37374187,\n",
       "       14.53529358, 20.51515365, 26.24943018, 20.60449123, 11.24362111,\n",
       "       18.75163865, 35.22110295, 13.08173442, 24.33217549, 13.10478091,\n",
       "       25.55009937, 24.14812183, 36.77120018, 19.24910402, 40.33379793,\n",
       "       25.18383789, 34.36014032, 23.2191329 , 30.11858726, 48.39171863,\n",
       "       40.37761593, 23.95028901, 22.06755543, 26.68600655, 18.65786219,\n",
       "       26.84707952, 19.75129461, 25.32558513, 15.0956583 , 29.97530651,\n",
       "       12.62516189, 13.88623381, 18.17822099, 33.98413563, 31.23793817,\n",
       "       14.07744622, 16.94478273, 24.61567235, 42.81923699, 15.65639949,\n",
       "       19.93412042, 14.44053555, 24.74949861, 50.29096389, 25.48366499,\n",
       "       49.24714231, 25.00924182, 20.90013552, 18.2761867 , 12.08713603,\n",
       "       16.79261756, 15.94494987,  9.74525809, 24.7177403 , 25.39126468,\n",
       "       51.95351386, 19.81831193, 25.49239111, 35.27157187, 27.93164468,\n",
       "       10.03940964, 24.55365515, 57.69460821, 17.21470141, 15.91628242,\n",
       "       23.58671975, 16.94737744,  9.67434287, 19.57901788, 34.11739492,\n",
       "       13.66182446, 23.85128903, 13.31310391, 20.66461134, 12.96836662,\n",
       "       11.53678942, 17.1086936 , 32.94708991, 18.87743974, 28.09269261,\n",
       "       49.57313633, 46.55453062, 17.41374731, 14.05030036, 41.19122028,\n",
       "       15.5044508 , 18.15279007, 13.70246339, 25.9092145 , 17.82084799,\n",
       "       12.27914953, 20.82488847, 11.89946103,  4.28105903, 18.01190305,\n",
       "       13.19017887, 22.59918761,  3.77494812, 25.63124633, 32.67659163,\n",
       "       22.20747638, 13.09677124, 16.26901603, 21.74444318, 31.33949375,\n",
       "       23.75878072, 20.32656503, 18.13993907,  7.83515716, 19.46118617,\n",
       "       22.62412381, 24.80470204, 14.07112145, 25.34766054, 19.6013186 ,\n",
       "        7.37701654, 23.27559733, 22.15300441, 30.53594804, 26.74445844,\n",
       "       23.92251515, 15.28662419, 27.65470123, 21.69475102, 24.64531779,\n",
       "       23.84679961, 26.68847466, 21.43793821, 32.58275414, 20.232939  ,\n",
       "       19.19269967, 23.63536382, 47.44166732, 24.54577112, 17.06256652,\n",
       "       35.94305968, 20.94376588, 21.99221039, 16.76877403])"
      ]
     },
     "execution_count": 29,
     "metadata": {},
     "output_type": "execute_result"
    }
   ],
   "source": [
    "y_pred_train_ = lr_model_.predict(x_train_)\n",
    "y_pred_train_"
   ]
  },
  {
   "cell_type": "code",
   "execution_count": 30,
   "id": "bca45e5a",
   "metadata": {
    "collapsed": true
   },
   "outputs": [
    {
     "data": {
      "text/plain": [
       "array([ 22.67599368,  24.11843967,  23.94481945,  10.43538475,\n",
       "        20.23110294,  20.69503951,  23.34332323,  20.67324924,\n",
       "        17.99793291,  15.86463618,  10.82774496,  15.8280127 ,\n",
       "        13.11604166,   8.6740334 ,  45.18858886,  33.13777733,\n",
       "        24.57499409,  36.90273666,  31.41370678,  22.67747378,\n",
       "        24.88091063,  22.22232604,  20.4187746 ,  29.2462976 ,\n",
       "        19.52232242,  26.89700174,  16.4215982 ,  18.43229246,\n",
       "        37.01749396,  16.02509403,  15.91324806,  17.30216742,\n",
       "        19.30749321,  16.71741128,  26.04575276,  17.52685714,\n",
       "         5.7269659 ,  38.8270061 ,  17.26061535,  14.12312317,\n",
       "        21.27443957,  20.36669636,  18.84569526,  17.09819698,\n",
       "        13.44127822,  23.62547803,  18.04241347, -13.78437424,\n",
       "        10.53220153,  23.38988614, -35.7487483 ,  23.88251066,\n",
       "        18.9745245 ,  46.42641759,  10.73185515,  18.94544339,\n",
       "        17.41213846,  15.91165686,  28.70250154,  20.92951584,\n",
       "        25.49278045,  21.24660826,  29.94436288,  28.22263718,\n",
       "        23.22729778,  32.92781687,  16.55516958,  22.14028525,\n",
       "        17.76803303,  20.87791133,  18.58655882,  22.18987036,\n",
       "        28.58806777,  30.05773115,  26.66908479,  10.37701035,\n",
       "        42.71826792,  23.50648999,  25.58351445,  19.85248899,\n",
       "        25.4363575 ,  17.4912672 ,  19.2136941 ,  43.56379747,\n",
       "        47.87476349,  24.64635682,  20.91033435,  14.74299192,\n",
       "        32.18536091,  15.74535656,  19.76421213,   9.08787465,\n",
       "        20.94928432,  28.14857554,  20.89475727,  21.37039566,\n",
       "        13.98667955,  22.18557119,  14.21829414,  13.55246925,\n",
       "        24.73775125,  19.08814049,  25.73090076,  20.73283887,\n",
       "        26.84233594,  19.14157462,   7.63587928,  18.58824086,\n",
       "        20.61598921,  26.23001909,  35.50407958,  14.46462917,\n",
       "        18.32077718,  18.27202988,  14.38818216,  25.54801774,\n",
       "         6.79058504,  19.50172472,  11.14126658,  47.52238202,\n",
       "        31.14627218,  19.16661143,  16.83710814,  22.54742932,\n",
       "        20.64644194,  20.41461396,  38.27852511,  19.44780779,\n",
       "        16.3948698 ,  34.66254926,  14.75189567,  11.70860815,\n",
       "        15.08180618,  18.13474083,   9.31267762,  30.19758558,\n",
       "        20.49583411, -12.46212888,  27.15084338,   8.65980077,\n",
       "         8.96272683,  24.73110723,  38.12421942,  26.40652728,\n",
       "        22.28865504,  15.19488239,  34.12506032,  31.62017417,\n",
       "        10.99001002,   8.8461597 ,  27.70835924,  25.07554984])"
      ]
     },
     "execution_count": 30,
     "metadata": {},
     "output_type": "execute_result"
    }
   ],
   "source": [
    "y_pred_ = lr_model_.predict(x_test_)\n",
    "y_pred_"
   ]
  },
  {
   "cell_type": "code",
   "execution_count": 31,
   "id": "1f5d7194",
   "metadata": {
    "scrolled": false
   },
   "outputs": [
    {
     "name": "stdout",
     "output_type": "stream",
     "text": [
      "Training Set :92.71%\n",
      "Testing Set :46.64%\n"
     ]
    }
   ],
   "source": [
    "print('Training Set :{:.2f}%'.format(r2_score(y_train,y_pred_train_)*100))\n",
    "print('Testing Set :{:.2f}%'.format(r2_score(y_test,y_pred_)*100))"
   ]
  },
  {
   "cell_type": "markdown",
   "id": "3dd41447",
   "metadata": {},
   "source": [
    "Performing well on Training Data but not performing well on Testing Data (Overfitting)."
   ]
  },
  {
   "cell_type": "code",
   "execution_count": 32,
   "id": "10f06004",
   "metadata": {
    "scrolled": false
   },
   "outputs": [
    {
     "name": "stdout",
     "output_type": "stream",
     "text": [
      "MAE: 3.45\n",
      "MSE: 44.43\n",
      "RMSE: 6.67\n"
     ]
    }
   ],
   "source": [
    "print('MAE: {:.2f}'.format(mean_absolute_error(y_test,y_pred_)))\n",
    "print('MSE: {:.2f}'.format(mean_squared_error(y_test,y_pred_)))\n",
    "print('RMSE: {:.2f}'.format(np.sqrt(mean_squared_error(y_test,y_pred_))))"
   ]
  },
  {
   "cell_type": "markdown",
   "id": "6de7c232",
   "metadata": {},
   "source": [
    "## Conclution \n",
    "\n",
    "Linear Regression is more suiltable than Polynomial Regression"
   ]
  }
 ],
 "metadata": {
  "kernelspec": {
   "display_name": "myenv",
   "language": "python",
   "name": "myenv"
  },
  "language_info": {
   "codemirror_mode": {
    "name": "ipython",
    "version": 3
   },
   "file_extension": ".py",
   "mimetype": "text/x-python",
   "name": "python",
   "nbconvert_exporter": "python",
   "pygments_lexer": "ipython3",
   "version": "3.9.16"
  }
 },
 "nbformat": 4,
 "nbformat_minor": 5
}
